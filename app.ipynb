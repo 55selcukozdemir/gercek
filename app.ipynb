{
 "cells": [
  {
   "cell_type": "code",
   "execution_count": 18,
   "metadata": {},
   "outputs": [],
   "source": [
    "import csv\n",
    "import ast\n",
    "import numpy as np\n",
    "from sklearn.model_selection import train_test_split"
   ]
  },
  {
   "cell_type": "code",
   "execution_count": 19,
   "metadata": {},
   "outputs": [],
   "source": [
    "images = np.empty((0, 26, 34), dtype=np.uint8)\n",
    "labels = np.empty((0), dtype=np.uint8)"
   ]
  },
  {
   "cell_type": "code",
   "execution_count": 20,
   "metadata": {},
   "outputs": [],
   "source": [
    "with open('dataset_eye_on_off.csv', mode ='r')as file:\n",
    "  csvFile = csv.reader(file)\n",
    "  i = 0 \n",
    "  for lines in csvFile:\n",
    "        if(i != 0):\n",
    "            image = ast.literal_eval(lines[1])\n",
    "            image = np.reshape(image, (26, 34)).astype(np.uint8)  \n",
    "            images = x = np.append(images, [image], axis=0)\n",
    "\n",
    "            label = lines[0]\n",
    "            if label == 'open':\n",
    "              labels = np.append(labels, 1)\n",
    "            else:\n",
    "              labels = np.append(labels, 0)\n",
    "        i += 1"
   ]
  },
  {
   "cell_type": "code",
   "execution_count": 21,
   "metadata": {},
   "outputs": [
    {
     "name": "stdout",
     "output_type": "stream",
     "text": [
      "Train data shape: (2299, 26, 34)\n",
      "Test data shape: (575, 26, 34)\n",
      "Train labels shape: (2299,)\n",
      "Test labels shape: (575,)\n"
     ]
    }
   ],
   "source": [
    "train_data, test_data, train_labels, test_labels = train_test_split(images, labels, test_size=0.2, random_state=42)\n",
    "print(f\"Train data shape: {train_data.shape}\")\n",
    "print(f\"Test data shape: {test_data.shape}\")\n",
    "print(f\"Train labels shape: {train_labels.shape}\")\n",
    "print(f\"Test labels shape: {test_labels.shape}\")"
   ]
  },
  {
   "cell_type": "code",
   "execution_count": 22,
   "metadata": {},
   "outputs": [],
   "source": [
    "from keras.models import Sequential\n",
    "from keras.layers import Dense,Flatten,Conv2D,MaxPooling2D"
   ]
  },
  {
   "cell_type": "code",
   "execution_count": 23,
   "metadata": {},
   "outputs": [],
   "source": [
    "# Model tanımlanır\n",
    "model=Sequential()\n",
    "#CNN ve pooling katmanları eklenir\n",
    "model.add(Conv2D(32,(3,3),activation='relu',input_shape=(26, 34, 1)))\n",
    "model.add(MaxPooling2D((2,2), padding='same'))\n",
    "model.add(Conv2D(64,(3,3),activation='relu'))\n",
    "model.add(MaxPooling2D((2,2), padding='same'))\n",
    "#Flatten katmanı eklenir\n",
    "model.add(Flatten( ))\n",
    "model.add(Dense(128,activation='relu') )\n",
    "model.add(Dense(1,activation='sigmoid') )\n",
    "# Model compile\n",
    "model.compile(loss='binary_crossentropy',optimizer='adam',metrics=['accuracy'])\n"
   ]
  },
  {
   "cell_type": "code",
   "execution_count": 24,
   "metadata": {},
   "outputs": [
    {
     "name": "stdout",
     "output_type": "stream",
     "text": [
      "Epoch 1/32\n",
      "\u001b[1m184/184\u001b[0m \u001b[32m━━━━━━━━━━━━━━━━━━━━\u001b[0m\u001b[37m\u001b[0m \u001b[1m2s\u001b[0m 4ms/step - accuracy: 0.8230 - loss: 1.8970 - val_accuracy: 0.9000 - val_loss: 0.2996\n",
      "Epoch 2/32\n",
      "\u001b[1m184/184\u001b[0m \u001b[32m━━━━━━━━━━━━━━━━━━━━\u001b[0m\u001b[37m\u001b[0m \u001b[1m1s\u001b[0m 4ms/step - accuracy: 0.9438 - loss: 0.1592 - val_accuracy: 0.9522 - val_loss: 0.1319\n",
      "Epoch 3/32\n",
      "\u001b[1m184/184\u001b[0m \u001b[32m━━━━━━━━━━━━━━━━━━━━\u001b[0m\u001b[37m\u001b[0m \u001b[1m1s\u001b[0m 5ms/step - accuracy: 0.9687 - loss: 0.1243 - val_accuracy: 0.9674 - val_loss: 0.1108\n",
      "Epoch 4/32\n",
      "\u001b[1m184/184\u001b[0m \u001b[32m━━━━━━━━━━━━━━━━━━━━\u001b[0m\u001b[37m\u001b[0m \u001b[1m1s\u001b[0m 4ms/step - accuracy: 0.9819 - loss: 0.0706 - val_accuracy: 0.9804 - val_loss: 0.0894\n",
      "Epoch 5/32\n",
      "\u001b[1m184/184\u001b[0m \u001b[32m━━━━━━━━━━━━━━━━━━━━\u001b[0m\u001b[37m\u001b[0m \u001b[1m1s\u001b[0m 4ms/step - accuracy: 0.9812 - loss: 0.0600 - val_accuracy: 0.9804 - val_loss: 0.0617\n",
      "Epoch 6/32\n",
      "\u001b[1m184/184\u001b[0m \u001b[32m━━━━━━━━━━━━━━━━━━━━\u001b[0m\u001b[37m\u001b[0m \u001b[1m1s\u001b[0m 4ms/step - accuracy: 0.9808 - loss: 0.0686 - val_accuracy: 0.9674 - val_loss: 0.0909\n",
      "Epoch 7/32\n",
      "\u001b[1m184/184\u001b[0m \u001b[32m━━━━━━━━━━━━━━━━━━━━\u001b[0m\u001b[37m\u001b[0m \u001b[1m1s\u001b[0m 4ms/step - accuracy: 0.9759 - loss: 0.0659 - val_accuracy: 0.9587 - val_loss: 0.0982\n",
      "Epoch 8/32\n",
      "\u001b[1m184/184\u001b[0m \u001b[32m━━━━━━━━━━━━━━━━━━━━\u001b[0m\u001b[37m\u001b[0m \u001b[1m1s\u001b[0m 4ms/step - accuracy: 0.9729 - loss: 0.0668 - val_accuracy: 0.9891 - val_loss: 0.0515\n",
      "Epoch 9/32\n",
      "\u001b[1m184/184\u001b[0m \u001b[32m━━━━━━━━━━━━━━━━━━━━\u001b[0m\u001b[37m\u001b[0m \u001b[1m1s\u001b[0m 4ms/step - accuracy: 0.9914 - loss: 0.0253 - val_accuracy: 0.9630 - val_loss: 0.1220\n",
      "Epoch 10/32\n",
      "\u001b[1m184/184\u001b[0m \u001b[32m━━━━━━━━━━━━━━━━━━━━\u001b[0m\u001b[37m\u001b[0m \u001b[1m1s\u001b[0m 4ms/step - accuracy: 0.9664 - loss: 0.1002 - val_accuracy: 0.9891 - val_loss: 0.0256\n",
      "Epoch 11/32\n",
      "\u001b[1m184/184\u001b[0m \u001b[32m━━━━━━━━━━━━━━━━━━━━\u001b[0m\u001b[37m\u001b[0m \u001b[1m1s\u001b[0m 4ms/step - accuracy: 0.9892 - loss: 0.0272 - val_accuracy: 0.9891 - val_loss: 0.0771\n",
      "Epoch 12/32\n",
      "\u001b[1m184/184\u001b[0m \u001b[32m━━━━━━━━━━━━━━━━━━━━\u001b[0m\u001b[37m\u001b[0m \u001b[1m1s\u001b[0m 4ms/step - accuracy: 0.9906 - loss: 0.0230 - val_accuracy: 0.9870 - val_loss: 0.0687\n",
      "Epoch 13/32\n",
      "\u001b[1m184/184\u001b[0m \u001b[32m━━━━━━━━━━━━━━━━━━━━\u001b[0m\u001b[37m\u001b[0m \u001b[1m1s\u001b[0m 4ms/step - accuracy: 0.9969 - loss: 0.0079 - val_accuracy: 0.9913 - val_loss: 0.0671\n",
      "Epoch 14/32\n",
      "\u001b[1m184/184\u001b[0m \u001b[32m━━━━━━━━━━━━━━━━━━━━\u001b[0m\u001b[37m\u001b[0m \u001b[1m1s\u001b[0m 4ms/step - accuracy: 0.9910 - loss: 0.0335 - val_accuracy: 0.9826 - val_loss: 0.0454\n",
      "Epoch 15/32\n",
      "\u001b[1m184/184\u001b[0m \u001b[32m━━━━━━━━━━━━━━━━━━━━\u001b[0m\u001b[37m\u001b[0m \u001b[1m1s\u001b[0m 4ms/step - accuracy: 0.9946 - loss: 0.0222 - val_accuracy: 0.9870 - val_loss: 0.0680\n",
      "Epoch 16/32\n",
      "\u001b[1m184/184\u001b[0m \u001b[32m━━━━━━━━━━━━━━━━━━━━\u001b[0m\u001b[37m\u001b[0m \u001b[1m1s\u001b[0m 4ms/step - accuracy: 0.9961 - loss: 0.0102 - val_accuracy: 0.9870 - val_loss: 0.0692\n",
      "Epoch 17/32\n",
      "\u001b[1m184/184\u001b[0m \u001b[32m━━━━━━━━━━━━━━━━━━━━\u001b[0m\u001b[37m\u001b[0m \u001b[1m1s\u001b[0m 4ms/step - accuracy: 0.9885 - loss: 0.0443 - val_accuracy: 0.9717 - val_loss: 0.1285\n",
      "Epoch 18/32\n",
      "\u001b[1m184/184\u001b[0m \u001b[32m━━━━━━━━━━━━━━━━━━━━\u001b[0m\u001b[37m\u001b[0m \u001b[1m1s\u001b[0m 4ms/step - accuracy: 0.9805 - loss: 0.0650 - val_accuracy: 0.9848 - val_loss: 0.1002\n",
      "Epoch 19/32\n",
      "\u001b[1m184/184\u001b[0m \u001b[32m━━━━━━━━━━━━━━━━━━━━\u001b[0m\u001b[37m\u001b[0m \u001b[1m1s\u001b[0m 4ms/step - accuracy: 0.9992 - loss: 0.0046 - val_accuracy: 0.9870 - val_loss: 0.1252\n",
      "Epoch 20/32\n",
      "\u001b[1m184/184\u001b[0m \u001b[32m━━━━━━━━━━━━━━━━━━━━\u001b[0m\u001b[37m\u001b[0m \u001b[1m1s\u001b[0m 4ms/step - accuracy: 0.9955 - loss: 0.0281 - val_accuracy: 0.9891 - val_loss: 0.1345\n",
      "Epoch 21/32\n",
      "\u001b[1m184/184\u001b[0m \u001b[32m━━━━━━━━━━━━━━━━━━━━\u001b[0m\u001b[37m\u001b[0m \u001b[1m1s\u001b[0m 4ms/step - accuracy: 0.9926 - loss: 0.0301 - val_accuracy: 0.9891 - val_loss: 0.0818\n",
      "Epoch 22/32\n",
      "\u001b[1m184/184\u001b[0m \u001b[32m━━━━━━━━━━━━━━━━━━━━\u001b[0m\u001b[37m\u001b[0m \u001b[1m1s\u001b[0m 4ms/step - accuracy: 0.9893 - loss: 0.0342 - val_accuracy: 0.9913 - val_loss: 0.0673\n",
      "Epoch 23/32\n",
      "\u001b[1m184/184\u001b[0m \u001b[32m━━━━━━━━━━━━━━━━━━━━\u001b[0m\u001b[37m\u001b[0m \u001b[1m1s\u001b[0m 4ms/step - accuracy: 0.9957 - loss: 0.0147 - val_accuracy: 0.9913 - val_loss: 0.0812\n",
      "Epoch 24/32\n",
      "\u001b[1m184/184\u001b[0m \u001b[32m━━━━━━━━━━━━━━━━━━━━\u001b[0m\u001b[37m\u001b[0m \u001b[1m1s\u001b[0m 4ms/step - accuracy: 0.9987 - loss: 0.0083 - val_accuracy: 0.9891 - val_loss: 0.0546\n",
      "Epoch 25/32\n",
      "\u001b[1m184/184\u001b[0m \u001b[32m━━━━━━━━━━━━━━━━━━━━\u001b[0m\u001b[37m\u001b[0m \u001b[1m1s\u001b[0m 4ms/step - accuracy: 1.0000 - loss: 0.0016 - val_accuracy: 0.9913 - val_loss: 0.0596\n",
      "Epoch 26/32\n",
      "\u001b[1m184/184\u001b[0m \u001b[32m━━━━━━━━━━━━━━━━━━━━\u001b[0m\u001b[37m\u001b[0m \u001b[1m1s\u001b[0m 4ms/step - accuracy: 1.0000 - loss: 8.7701e-04 - val_accuracy: 0.9935 - val_loss: 0.0599\n",
      "Epoch 27/32\n",
      "\u001b[1m184/184\u001b[0m \u001b[32m━━━━━━━━━━━━━━━━━━━━\u001b[0m\u001b[37m\u001b[0m \u001b[1m1s\u001b[0m 4ms/step - accuracy: 1.0000 - loss: 2.3569e-04 - val_accuracy: 0.9935 - val_loss: 0.0601\n",
      "Epoch 28/32\n",
      "\u001b[1m184/184\u001b[0m \u001b[32m━━━━━━━━━━━━━━━━━━━━\u001b[0m\u001b[37m\u001b[0m \u001b[1m1s\u001b[0m 4ms/step - accuracy: 1.0000 - loss: 3.0153e-04 - val_accuracy: 0.9935 - val_loss: 0.0644\n",
      "Epoch 29/32\n",
      "\u001b[1m184/184\u001b[0m \u001b[32m━━━━━━━━━━━━━━━━━━━━\u001b[0m\u001b[37m\u001b[0m \u001b[1m1s\u001b[0m 4ms/step - accuracy: 1.0000 - loss: 1.2479e-04 - val_accuracy: 0.9935 - val_loss: 0.0666\n",
      "Epoch 30/32\n",
      "\u001b[1m184/184\u001b[0m \u001b[32m━━━━━━━━━━━━━━━━━━━━\u001b[0m\u001b[37m\u001b[0m \u001b[1m1s\u001b[0m 4ms/step - accuracy: 1.0000 - loss: 1.8869e-04 - val_accuracy: 0.9935 - val_loss: 0.0695\n",
      "Epoch 31/32\n",
      "\u001b[1m184/184\u001b[0m \u001b[32m━━━━━━━━━━━━━━━━━━━━\u001b[0m\u001b[37m\u001b[0m \u001b[1m1s\u001b[0m 4ms/step - accuracy: 1.0000 - loss: 9.8108e-05 - val_accuracy: 0.9935 - val_loss: 0.0703\n",
      "Epoch 32/32\n",
      "\u001b[1m184/184\u001b[0m \u001b[32m━━━━━━━━━━━━━━━━━━━━\u001b[0m\u001b[37m\u001b[0m \u001b[1m1s\u001b[0m 4ms/step - accuracy: 1.0000 - loss: 9.2104e-05 - val_accuracy: 0.9935 - val_loss: 0.0723\n"
     ]
    }
   ],
   "source": [
    "learnedmodel=model.fit(train_data,train_labels,batch_size=10,epochs=32,validation_split=0.2)"
   ]
  },
  {
   "cell_type": "code",
   "execution_count": 25,
   "metadata": {},
   "outputs": [],
   "source": [
    "model.save(\"my_model.keras\")"
   ]
  },
  {
   "cell_type": "code",
   "execution_count": 31,
   "metadata": {},
   "outputs": [],
   "source": [
    "from keras import models\n",
    "import cv2\n",
    "reconstructed_model = models.load_model(\"my_model.keras\")"
   ]
  },
  {
   "cell_type": "code",
   "execution_count": 44,
   "metadata": {},
   "outputs": [
    {
     "name": "stdout",
     "output_type": "stream",
     "text": [
      "\u001b[1m18/18\u001b[0m \u001b[32m━━━━━━━━━━━━━━━━━━━━\u001b[0m\u001b[37m\u001b[0m \u001b[1m0s\u001b[0m 3ms/step - accuracy: 0.9858 - loss: 0.0852      \n",
      "Test Kaybı: 0.1350734531879425, Test Doğruluğu: 0.9808695912361145\n"
     ]
    }
   ],
   "source": [
    "test_loss, test_accuracy = reconstructed_model.evaluate(test_data, test_labels)\n",
    "\n",
    "print(f'Test Kaybı: {test_loss}, Test Doğruluğu: {test_accuracy}')"
   ]
  },
  {
   "cell_type": "code",
   "execution_count": 43,
   "metadata": {},
   "outputs": [
    {
     "name": "stdout",
     "output_type": "stream",
     "text": [
      "\u001b[1m1/1\u001b[0m \u001b[32m━━━━━━━━━━━━━━━━━━━━\u001b[0m\u001b[37m\u001b[0m \u001b[1m0s\u001b[0m 26ms/step\n",
      "0\n",
      "[1]\n"
     ]
    }
   ],
   "source": [
    "\n",
    "import numpy as np\n",
    "from keras.preprocessing.image import img_to_array\n",
    "image = cv2.imread('C:/Users/SELCUK/Desktop/dersler/gercek/gorsel.png')\n",
    "image = cv2.cvtColor(image, cv2.COLOR_BGR2GRAY)\n",
    "image = cv2.resize(image, (34, 26)).astype(np.uint8)   # width ve height modelin girdi boyutu\n",
    "\n",
    "# Görseli uygun formata dönüştür\n",
    "image = img_to_array(image)\n",
    "image = np.expand_dims(image, axis=0)\n",
    "predictions = reconstructed_model.predict(image)\n",
    "class_labels = {0: \"Kapalı\", 1: \"Açık\"}\n",
    "class_index = np.argmax(predictions[0].astype(np.uint8))\n",
    "print(class_index)\n",
    "print(predictions[0].astype(np.uint8)  )"
   ]
  },
  {
   "cell_type": "code",
   "execution_count": 27,
   "metadata": {},
   "outputs": [
    {
     "name": "stdout",
     "output_type": "stream",
     "text": [
      "\u001b[1m18/18\u001b[0m \u001b[32m━━━━━━━━━━━━━━━━━━━━\u001b[0m\u001b[37m\u001b[0m \u001b[1m0s\u001b[0m 2ms/step - accuracy: 0.9858 - loss: 0.0852      \n",
      "Test Kaybı: 0.1350734531879425, Test Doğruluğu: 0.9808695912361145\n"
     ]
    }
   ],
   "source": [
    "# Test verisi ile değerlendirme\n",
    "test_loss, test_accuracy = model.evaluate(test_data, test_labels)\n",
    "\n",
    "print(f'Test Kaybı: {test_loss}, Test Doğruluğu: {test_accuracy}')\n"
   ]
  },
  {
   "cell_type": "code",
   "execution_count": 28,
   "metadata": {},
   "outputs": [
    {
     "name": "stdout",
     "output_type": "stream",
     "text": [
      "\u001b[1m18/18\u001b[0m \u001b[32m━━━━━━━━━━━━━━━━━━━━\u001b[0m\u001b[37m\u001b[0m \u001b[1m0s\u001b[0m 5ms/step\n",
      "Tahmin: 0, Gerçek: 0\n",
      "Tahmin: 1, Gerçek: 1\n",
      "Tahmin: 1, Gerçek: 1\n",
      "Tahmin: 0, Gerçek: 0\n",
      "Tahmin: 1, Gerçek: 1\n",
      "Tahmin: 1, Gerçek: 1\n",
      "Tahmin: 1, Gerçek: 1\n",
      "Tahmin: 1, Gerçek: 1\n",
      "Tahmin: 1, Gerçek: 1\n",
      "Tahmin: 1, Gerçek: 1\n"
     ]
    }
   ],
   "source": [
    "# Test verisi için tahmin yapma\n",
    "predictions = model.predict(test_data)\n",
    "\n",
    "# Tahminleri ikili sınıflandırma için 0 veya 1'e yuvarlayın\n",
    "predicted_labels = (predictions > 0.5).astype(np.uint8)\n",
    "\n",
    "# İlk 10 tahmin ile gerçek etiketleri karşılaştırma\n",
    "for i in range(10):\n",
    "    print(f'Tahmin: {predicted_labels[i][0]}, Gerçek: {test_labels[i]}')\n"
   ]
  },
  {
   "cell_type": "code",
   "execution_count": 29,
   "metadata": {},
   "outputs": [
    {
     "data": {
      "image/png": "[encoded data removed]",
      "text/plain": [
       "<Figure size 600x400 with 2 Axes>"
      ]
     },
     "metadata": {},
     "output_type": "display_data"
    }
   ],
   "source": [
    "from sklearn.metrics import confusion_matrix\n",
    "import seaborn as sns\n",
    "import matplotlib.pyplot as plt\n",
    "\n",
    "# Karışıklık matrisini hesapla\n",
    "cm = confusion_matrix(test_labels, predicted_labels)\n",
    "\n",
    "# Karışıklık matrisini görselleştir\n",
    "plt.figure(figsize=(6, 4))\n",
    "sns.heatmap(cm, annot=True, fmt='d', cmap='Blues', xticklabels=[0, 1], yticklabels=[0, 1])\n",
    "plt.xlabel('Tahmin Edilen')\n",
    "plt.ylabel('Gerçek')\n",
    "plt.title('Karışıklık Matrisi')\n",
    "plt.show()\n"
   ]
  },
  {
   "cell_type": "code",
   "execution_count": 30,
   "metadata": {},
   "outputs": [
    {
     "name": "stdout",
     "output_type": "stream",
     "text": [
      "              precision    recall  f1-score   support\n",
      "\n",
      "     Sınıf 0       0.98      0.98      0.98       270\n",
      "     Sınıf 1       0.98      0.98      0.98       305\n",
      "\n",
      "    accuracy                           0.98       575\n",
      "   macro avg       0.98      0.98      0.98       575\n",
      "weighted avg       0.98      0.98      0.98       575\n",
      "\n"
     ]
    }
   ],
   "source": [
    "from sklearn.metrics import classification_report\n",
    "\n",
    "# Sınıflandırma raporu\n",
    "print(classification_report(test_labels, predicted_labels, target_names=['Sınıf 0', 'Sınıf 1']))\n"
   ]
  }
 ],
 "metadata": {
  "kernelspec": {
   "display_name": "gercek",
   "language": "python",
   "name": "python3"
  },
  "language_info": {
   "codemirror_mode": {
    "name": "ipython",
    "version": 3
   },
   "file_extension": ".py",
   "mimetype": "text/x-python",
   "name": "python",
   "nbconvert_exporter": "python",
   "pygments_lexer": "ipython3",
   "version": "3.11.10"
  }
 },
 "nbformat": 4,
 "nbformat_minor": 2
}
